{
 "cells": [
  {
   "cell_type": "markdown",
   "metadata": {},
   "source": [
    "# Clem's Machine Learning Template\n",
    "## Post Operative Data\n",
    "\n",
    "This is what Clem uses to scout out an initial data set for classification to get a \"lay of the land\".\n",
    "\n",
    "While, it is unwise to favor a particular ML methodology, H2O's GBM has a lot of advantages that makes it really good for a first pass:\n",
    "\n",
    "* Fast\n",
    "* Robust to overfitting over a wide range of hyper parameters\n",
    "* Handles both categorical and continous variables\n",
    "* No need to scale the data\n",
    "\n",
    "Change sections that are labeled:\n",
    "\n",
    "    #@@@@@ CHANGE TO FIX SPECIFIC PROBLEM\n",
    "    \n",
    "This data is from:\n",
    "https://archive.ics.uci.edu/ml/datasets/Post-Operative+Patient\n"
   ]
  },
  {
   "cell_type": "markdown",
   "metadata": {},
   "source": [
    "## Data Preparation"
   ]
  },
  {
   "cell_type": "code",
   "execution_count": 60,
   "metadata": {
    "collapsed": false
   },
   "outputs": [],
   "source": [
    "# Python Libraries\n",
    "from __future__ import division   # So that / does floating point division\n",
    "import numpy as np\n",
    "import pandas as pd\n",
    "import seaborn as sns\n",
    "import scipy\n",
    "import commands\n",
    "import math\n",
    "import matplotlib.pyplot as plt\n",
    "%matplotlib inline\n",
    "\n",
    "from statsmodels.graphics.mosaicplot import mosaic\n",
    "import pylab\n",
    "\n",
    "import h2o\n",
    "\n",
    "from sklearn.metrics import f1_score\n",
    "from sklearn.metrics import roc_curve\n",
    "from sklearn.metrics import roc_auc_score"
   ]
  },
  {
   "cell_type": "code",
   "execution_count": 5,
   "metadata": {
    "collapsed": false
   },
   "outputs": [],
   "source": [
    "#@@@@@ CHANGE TO FIX SPECIFIC PROBLEM\n",
    "\n",
    "# Column names in case they aren't in an header\n",
    "\n",
    "column_names =[\n",
    "    \"L-CORE\",  # (patient's internal temperature in C):\n",
    "               #  high (> 37), mid (>= 36 and <= 37), low (< 36)\n",
    "     \"L-SURF\", # (patient's surface temperature in C):\n",
    "               # high (> 36.5), mid (>= 36.5 and <= 35), low (< 35)\n",
    "     \"L-O2\",   # (oxygen saturation in %):\n",
    "              # excellent (>= 98), good (>= 90 and < 98),\n",
    "               # fair (>= 80 and < 90), poor (< 80)\n",
    "     \"L-BP\",  #(last measurement of blood pressure):\n",
    "              # high (> 130/90), mid (<= 130/90 and >= 90/70), low (< 90/70)\n",
    "     \"SURF-STBL\", # (stability of patient's surface temperature):\n",
    "              # stable, mod-stable, unstable\n",
    "     \"CORE-STBL\", # (stability of patient's core temperature)\n",
    "               #table, mod-stable, unstable\n",
    "     \"BP-STBL\",  #(stability of patient's blood pressure)\n",
    "                 #stable, mod-stable, unstable\n",
    "     \"COMFORT\",  #(patient's perceived comfort at discharge, measured as\n",
    "                #an integer between 0 and 20)\n",
    "     \"decision\" # ADM-DECS (discharge decision):\n",
    "              #I (patient sent to Intensive Care Unit),\n",
    "              #S (patient prepared to go home),\n",
    "              #A (patient sent to general hospital floor)\n",
    "\n",
    "]"
   ]
  },
  {
   "cell_type": "code",
   "execution_count": 44,
   "metadata": {
    "collapsed": false
   },
   "outputs": [],
   "source": [
    "#@@@@@ CHANGE TO FIX SPECIFIC PROBLEM\n",
    "\n",
    "# http://pandas.pydata.org/pandas-docs/stable/generated/pandas.read_csv.html\n",
    "\n",
    "# Very Problem specific\n",
    "\n",
    "df = pd.read_csv(\n",
    "    \"post-operative.data\",\n",
    "    sep=\",\",\n",
    "    # header=0,   # Row the header is on or None if no header present\n",
    "    names=column_names,\n",
    "    skipinitialspace = True,  # Skip spaces after delimiter\n",
    "    na_values=['?'],\n",
    "    comment=\" \",   # Remove trailing space\n",
    ")\n",
    "\n"
   ]
  },
  {
   "cell_type": "code",
   "execution_count": 13,
   "metadata": {
    "collapsed": false
   },
   "outputs": [
    {
     "data": {
      "text/plain": [
       "array(['L-CORE', 'L-SURF', 'L-O2', 'L-BP', 'SURF-STBL', 'CORE-STBL',\n",
       "       'BP-STBL', 'COMFORT', 'decision'], dtype=object)"
      ]
     },
     "execution_count": 13,
     "metadata": {},
     "output_type": "execute_result"
    }
   ],
   "source": [
    "# Names of columns - check to see if we got it right\n",
    "df.columns.values"
   ]
  },
  {
   "cell_type": "code",
   "execution_count": 8,
   "metadata": {
    "collapsed": false
   },
   "outputs": [
    {
     "data": {
      "text/html": [
       "<div>\n",
       "<style>\n",
       "    .dataframe thead tr:only-child th {\n",
       "        text-align: right;\n",
       "    }\n",
       "\n",
       "    .dataframe thead th {\n",
       "        text-align: left;\n",
       "    }\n",
       "\n",
       "    .dataframe tbody tr th {\n",
       "        vertical-align: top;\n",
       "    }\n",
       "</style>\n",
       "<table border=\"1\" class=\"dataframe\">\n",
       "  <thead>\n",
       "    <tr style=\"text-align: right;\">\n",
       "      <th></th>\n",
       "      <th>L-CORE</th>\n",
       "      <th>L-SURF</th>\n",
       "      <th>L-O2</th>\n",
       "      <th>L-BP</th>\n",
       "      <th>SURF-STBL</th>\n",
       "      <th>CORE-STBL</th>\n",
       "      <th>BP-STBL</th>\n",
       "      <th>COMFORT</th>\n",
       "      <th>decision</th>\n",
       "    </tr>\n",
       "  </thead>\n",
       "  <tbody>\n",
       "    <tr>\n",
       "      <th>0</th>\n",
       "      <td>mid</td>\n",
       "      <td>low</td>\n",
       "      <td>excellent</td>\n",
       "      <td>mid</td>\n",
       "      <td>stable</td>\n",
       "      <td>stable</td>\n",
       "      <td>stable</td>\n",
       "      <td>15</td>\n",
       "      <td>A</td>\n",
       "    </tr>\n",
       "    <tr>\n",
       "      <th>1</th>\n",
       "      <td>mid</td>\n",
       "      <td>high</td>\n",
       "      <td>excellent</td>\n",
       "      <td>high</td>\n",
       "      <td>stable</td>\n",
       "      <td>stable</td>\n",
       "      <td>stable</td>\n",
       "      <td>10</td>\n",
       "      <td>S</td>\n",
       "    </tr>\n",
       "    <tr>\n",
       "      <th>2</th>\n",
       "      <td>high</td>\n",
       "      <td>low</td>\n",
       "      <td>excellent</td>\n",
       "      <td>high</td>\n",
       "      <td>stable</td>\n",
       "      <td>stable</td>\n",
       "      <td>mod-stable</td>\n",
       "      <td>10</td>\n",
       "      <td>A</td>\n",
       "    </tr>\n",
       "    <tr>\n",
       "      <th>3</th>\n",
       "      <td>mid</td>\n",
       "      <td>low</td>\n",
       "      <td>good</td>\n",
       "      <td>high</td>\n",
       "      <td>stable</td>\n",
       "      <td>unstable</td>\n",
       "      <td>mod-stable</td>\n",
       "      <td>15</td>\n",
       "      <td>A</td>\n",
       "    </tr>\n",
       "    <tr>\n",
       "      <th>4</th>\n",
       "      <td>mid</td>\n",
       "      <td>mid</td>\n",
       "      <td>excellent</td>\n",
       "      <td>high</td>\n",
       "      <td>stable</td>\n",
       "      <td>stable</td>\n",
       "      <td>stable</td>\n",
       "      <td>10</td>\n",
       "      <td>A</td>\n",
       "    </tr>\n",
       "  </tbody>\n",
       "</table>\n",
       "</div>"
      ],
      "text/plain": [
       "  L-CORE L-SURF       L-O2  L-BP SURF-STBL CORE-STBL     BP-STBL COMFORT  \\\n",
       "0    mid    low  excellent   mid    stable    stable      stable      15   \n",
       "1    mid   high  excellent  high    stable    stable      stable      10   \n",
       "2   high    low  excellent  high    stable    stable  mod-stable      10   \n",
       "3    mid    low       good  high    stable  unstable  mod-stable      15   \n",
       "4    mid    mid  excellent  high    stable    stable      stable      10   \n",
       "\n",
       "  decision  \n",
       "0        A  \n",
       "1        S  \n",
       "2        A  \n",
       "3       A   \n",
       "4        A  "
      ]
     },
     "execution_count": 8,
     "metadata": {},
     "output_type": "execute_result"
    }
   ],
   "source": [
    "df.head()"
   ]
  },
  {
   "cell_type": "code",
   "execution_count": 38,
   "metadata": {
    "collapsed": false
   },
   "outputs": [],
   "source": [
    "#@@@@@ CHANGE TO FIX SPECIFIC PROBLEM\n",
    "# Drop any columns that don't make sense, if any\n",
    "if False:\n",
    "    df = df.drop(\"COLUMN-NAME-THAT-IS-USELESS\",  #\n",
    "                 1)  # 1 means drops in column direction\n",
    "    \n",
    "# Fix up any data"
   ]
  },
  {
   "cell_type": "markdown",
   "metadata": {},
   "source": [
    "## Get Names of Columns"
   ]
  },
  {
   "cell_type": "markdown",
   "metadata": {},
   "source": [
    "### Problem Specific\n",
    "These are the values that are problem specific.  We use variable names from now on so that the code can be reused."
   ]
  },
  {
   "cell_type": "code",
   "execution_count": 39,
   "metadata": {
    "collapsed": true
   },
   "outputs": [],
   "source": [
    "#@@@@@ CHANGE TO FIX SPECIFIC PROBLEM\n",
    "YName = 'decision'     # Name of Response Variable\n",
    "XUnknowCategoricalValue = None  # or string that represents no categorical\n",
    "\n",
    "\n",
    "\n"
   ]
  },
  {
   "cell_type": "code",
   "execution_count": 40,
   "metadata": {
    "collapsed": false
   },
   "outputs": [],
   "source": [
    "# Automatically convert response variable that are ints\n",
    "# into catgorical values\n",
    "if df[YName].dtype == 'int64':\n",
    "    df[YName] = df[YName].astype(\"category\", ordered=False)\n"
   ]
  },
  {
   "cell_type": "markdown",
   "metadata": {},
   "source": [
    "Programmatically get list of names of:\n",
    "* numeric features\n",
    "* non-numeric features\n"
   ]
  },
  {
   "cell_type": "code",
   "execution_count": 45,
   "metadata": {
    "collapsed": false,
    "scrolled": false
   },
   "outputs": [
    {
     "name": "stdout",
     "output_type": "stream",
     "text": [
      "-- Non-Numeric Input Feature Names:\n",
      "['L-CORE', 'L-SURF', 'L-O2', 'L-BP', 'SURF-STBL', 'CORE-STBL', 'BP-STBL']\n",
      "\n",
      "-- Numeric Input Feature Names:\n",
      "['COMFORT']\n",
      "\n",
      "-- All Input Feature Names:\n",
      "['L-CORE', 'L-SURF', 'L-O2', 'L-BP', 'SURF-STBL', 'CORE-STBL', 'BP-STBL', 'COMFORT']\n",
      "\n",
      "-- Output (Response) Variable name:\n",
      "decision\n",
      "\n",
      "-- All possible values of Output (Response Variable):\n",
      "['A', 'S', 'I']\n"
     ]
    }
   ],
   "source": [
    "# Names of all the input features \n",
    "XNames = [x for x in df.columns.values if x != YName]\n",
    "\n",
    "# Names of all the Non-Numeric input features\n",
    "XNonNumerics = [x for x in XNames \\\n",
    "                if not (df[x].dtype == np.float64 \\\n",
    "                        or df[x].dtype == np.int64)]\n",
    "\n",
    "# Names of all the Non-Numeric input features\n",
    "XNumerics = [x for x in XNames if x not in XNonNumerics]\n",
    "\n",
    "# All the different Classification values that Y can take on\n",
    "YValues = list(df[YName].unique())\n",
    "\n",
    "print(\"-- Non-Numeric Input Feature Names:\")\n",
    "print(XNonNumerics)   # Of type pandas.core.series.Series\n",
    "print(\"\\n-- Numeric Input Feature Names:\")\n",
    "print(XNumerics)\n",
    "print(\"\\n-- All Input Feature Names:\")\n",
    "print(XNames)\n",
    "print(\"\\n-- Output (Response) Variable name:\")\n",
    "print(YName)\n",
    "print(\"\\n-- All possible values of Output (Response Variable):\")\n",
    "print(YValues)   # Classification values"
   ]
  },
  {
   "cell_type": "markdown",
   "metadata": {},
   "source": [
    "## Data Exploration\n",
    "\n",
    "Here, we plot the data to get a sense of which data"
   ]
  },
  {
   "cell_type": "code",
   "execution_count": 46,
   "metadata": {
    "collapsed": false
   },
   "outputs": [
    {
     "data": {
      "text/plain": [
       "COMFORT    float64\n",
       "dtype: object"
      ]
     },
     "execution_count": 46,
     "metadata": {},
     "output_type": "execute_result"
    }
   ],
   "source": [
    "df[XNumerics].dtypes "
   ]
  },
  {
   "cell_type": "code",
   "execution_count": 47,
   "metadata": {
    "collapsed": false
   },
   "outputs": [
    {
     "name": "stdout",
     "output_type": "stream",
     "text": [
      "A is 71.1%\n",
      "S is 26.7%\n",
      "I is 2.2%\n"
     ]
    }
   ],
   "source": [
    "# how balanced is the data\n",
    "for w in YValues:\n",
    "    s = sum(list(df[YName] == w))\n",
    "    print(\"{} is {:.1f}%\".format(w,\n",
    "                             100*s/len(df)))"
   ]
  },
  {
   "cell_type": "markdown",
   "metadata": {},
   "source": [
    "### Numeric Data"
   ]
  },
  {
   "cell_type": "code",
   "execution_count": 48,
   "metadata": {
    "collapsed": false,
    "scrolled": false
   },
   "outputs": [
    {
     "data": {
      "text/html": [
       "<div>\n",
       "<style>\n",
       "    .dataframe thead tr:only-child th {\n",
       "        text-align: right;\n",
       "    }\n",
       "\n",
       "    .dataframe thead th {\n",
       "        text-align: left;\n",
       "    }\n",
       "\n",
       "    .dataframe tbody tr th {\n",
       "        vertical-align: top;\n",
       "    }\n",
       "</style>\n",
       "<table border=\"1\" class=\"dataframe\">\n",
       "  <thead>\n",
       "    <tr style=\"text-align: right;\">\n",
       "      <th></th>\n",
       "      <th>COMFORT</th>\n",
       "    </tr>\n",
       "  </thead>\n",
       "  <tbody>\n",
       "    <tr>\n",
       "      <th>count</th>\n",
       "      <td>87.000000</td>\n",
       "    </tr>\n",
       "    <tr>\n",
       "      <th>mean</th>\n",
       "      <td>10.942529</td>\n",
       "    </tr>\n",
       "    <tr>\n",
       "      <th>std</th>\n",
       "      <td>2.304477</td>\n",
       "    </tr>\n",
       "    <tr>\n",
       "      <th>min</th>\n",
       "      <td>5.000000</td>\n",
       "    </tr>\n",
       "    <tr>\n",
       "      <th>25%</th>\n",
       "      <td>10.000000</td>\n",
       "    </tr>\n",
       "    <tr>\n",
       "      <th>50%</th>\n",
       "      <td>10.000000</td>\n",
       "    </tr>\n",
       "    <tr>\n",
       "      <th>75%</th>\n",
       "      <td>10.000000</td>\n",
       "    </tr>\n",
       "    <tr>\n",
       "      <th>max</th>\n",
       "      <td>15.000000</td>\n",
       "    </tr>\n",
       "  </tbody>\n",
       "</table>\n",
       "</div>"
      ],
      "text/plain": [
       "         COMFORT\n",
       "count  87.000000\n",
       "mean   10.942529\n",
       "std     2.304477\n",
       "min     5.000000\n",
       "25%    10.000000\n",
       "50%    10.000000\n",
       "75%    10.000000\n",
       "max    15.000000"
      ]
     },
     "execution_count": 48,
     "metadata": {},
     "output_type": "execute_result"
    }
   ],
   "source": [
    "df[XNumerics].describe()"
   ]
  },
  {
   "cell_type": "code",
   "execution_count": 49,
   "metadata": {
    "collapsed": false
   },
   "outputs": [
    {
     "name": "stdout",
     "output_type": "stream",
     "text": [
      "COMFORT has 5 float64 uniques in a range 10.0\n"
     ]
    }
   ],
   "source": [
    "for xname in XNumerics:\n",
    "    uniques = len(df[xname].unique())\n",
    "    dtype = df[xname].dtypes\n",
    "    if dtype == 'int64':\n",
    "        range_x = df[xname].max() - df[xname].min() + 1\n",
    "        print(\n",
    "            \"{} has {} int uniques with a density of {:.1f}% in range {}\".format(\n",
    "            xname, uniques, 100.0*uniques/range_x, range_x))\n",
    "    else:\n",
    "        range_x = df[xname].max() - df[xname].min()\n",
    "        print(\"{} has {} float64 uniques in a range {:.1f}\".format(\n",
    "            xname, uniques, range_x))\n",
    "       "
   ]
  },
  {
   "cell_type": "code",
   "execution_count": 62,
   "metadata": {
    "collapsed": false
   },
   "outputs": [
    {
     "name": "stdout",
     "output_type": "stream",
     "text": [
      "COMFORT has 3 'None's which is 3.3%\n"
     ]
    }
   ],
   "source": [
    "# Number of unknown Numeric Values\n",
    "nrow = len(df)\n",
    "for xname in XNumerics:\n",
    "    count =  (df[xname].apply(math.isnan)).sum()\n",
    "    if count > 0:\n",
    "        print (\"{} has {} '{}'s which is {:.1f}%\".format(\n",
    "            xname,\n",
    "            count,\n",
    "            XUnknowCategoricalValue,\n",
    "            100.0*count/nrow))\n",
    "        "
   ]
  },
  {
   "cell_type": "code",
   "execution_count": 63,
   "metadata": {
    "collapsed": false
   },
   "outputs": [
    {
     "data": {
      "image/png": "[encoded data removed]",
      "text/plain": [
       "<matplotlib.figure.Figure at 0x7f5594660a50>"
      ]
     },
     "metadata": {},
     "output_type": "display_data"
    }
   ],
   "source": [
    "# Violin Plot of numeric data\n",
    "for x in XNumerics:\n",
    "    sns.violinplot(y = df[x],\n",
    "                   x = df[YName],\n",
    "                   # Width indicates relative count.  >50K is less frequent\n",
    "                   scale=\"count\" , \n",
    "                   inner=\"box\",\n",
    "                   palette=\"muted\",\n",
    "                   split=True\n",
    "                  )\n",
    "    plt.show()"
   ]
  },
  {
   "cell_type": "markdown",
   "metadata": {},
   "source": [
    "### Non-Numeric Data"
   ]
  },
  {
   "cell_type": "code",
   "execution_count": 64,
   "metadata": {
    "collapsed": false
   },
   "outputs": [
    {
     "name": "stdout",
     "output_type": "stream",
     "text": [
      "L-CORE has 3 uniques\n",
      "L-SURF has 3 uniques\n",
      "L-O2 has 2 uniques\n",
      "L-BP has 3 uniques\n",
      "SURF-STBL has 2 uniques\n",
      "CORE-STBL has 3 uniques\n",
      "BP-STBL has 3 uniques\n"
     ]
    }
   ],
   "source": [
    "for xname in XNonNumerics:\n",
    "    uniques = len(df[xname].unique())\n",
    "    print(\"{} has {} uniques\".format(\n",
    "        xname, uniques))"
   ]
  },
  {
   "cell_type": "code",
   "execution_count": 65,
   "metadata": {
    "collapsed": false
   },
   "outputs": [],
   "source": [
    "# Number of unknown NonNumeric Values\n",
    "nrow = len(df)\n",
    "for xname in XNonNumerics:\n",
    "    count =  (df[xname] == XUnknowCategoricalValue).sum()\n",
    "    if count > 0:\n",
    "        print (\"{} has {} '{}'s which is {:.1f}%\".format(\n",
    "            xname,\n",
    "            count,\n",
    "            XUnknowCategoricalValue,\n",
    "            100.0*count/nrow))\n",
    "        "
   ]
  },
  {
   "cell_type": "code",
   "execution_count": 66,
   "metadata": {
    "collapsed": false
   },
   "outputs": [
    {
     "data": {
      "text/html": [
       "<div>\n",
       "<style>\n",
       "    .dataframe thead tr:only-child th {\n",
       "        text-align: right;\n",
       "    }\n",
       "\n",
       "    .dataframe thead th {\n",
       "        text-align: left;\n",
       "    }\n",
       "\n",
       "    .dataframe tbody tr th {\n",
       "        vertical-align: top;\n",
       "    }\n",
       "</style>\n",
       "<table border=\"1\" class=\"dataframe\">\n",
       "  <thead>\n",
       "    <tr style=\"text-align: right;\">\n",
       "      <th></th>\n",
       "      <th>L-CORE</th>\n",
       "      <th>L-SURF</th>\n",
       "      <th>L-O2</th>\n",
       "      <th>L-BP</th>\n",
       "      <th>SURF-STBL</th>\n",
       "      <th>CORE-STBL</th>\n",
       "      <th>BP-STBL</th>\n",
       "    </tr>\n",
       "  </thead>\n",
       "  <tbody>\n",
       "    <tr>\n",
       "      <th>count</th>\n",
       "      <td>90</td>\n",
       "      <td>90</td>\n",
       "      <td>90</td>\n",
       "      <td>90</td>\n",
       "      <td>90</td>\n",
       "      <td>90</td>\n",
       "      <td>90</td>\n",
       "    </tr>\n",
       "    <tr>\n",
       "      <th>unique</th>\n",
       "      <td>3</td>\n",
       "      <td>3</td>\n",
       "      <td>2</td>\n",
       "      <td>3</td>\n",
       "      <td>2</td>\n",
       "      <td>3</td>\n",
       "      <td>3</td>\n",
       "    </tr>\n",
       "    <tr>\n",
       "      <th>top</th>\n",
       "      <td>mid</td>\n",
       "      <td>mid</td>\n",
       "      <td>good</td>\n",
       "      <td>mid</td>\n",
       "      <td>stable</td>\n",
       "      <td>stable</td>\n",
       "      <td>stable</td>\n",
       "    </tr>\n",
       "    <tr>\n",
       "      <th>freq</th>\n",
       "      <td>58</td>\n",
       "      <td>48</td>\n",
       "      <td>47</td>\n",
       "      <td>57</td>\n",
       "      <td>45</td>\n",
       "      <td>83</td>\n",
       "      <td>46</td>\n",
       "    </tr>\n",
       "  </tbody>\n",
       "</table>\n",
       "</div>"
      ],
      "text/plain": [
       "       L-CORE L-SURF  L-O2 L-BP SURF-STBL CORE-STBL BP-STBL\n",
       "count      90     90    90   90        90        90      90\n",
       "unique      3      3     2    3         2         3       3\n",
       "top       mid    mid  good  mid    stable    stable  stable\n",
       "freq       58     48    47   57        45        83      46"
      ]
     },
     "execution_count": 66,
     "metadata": {},
     "output_type": "execute_result"
    }
   ],
   "source": [
    "df[XNonNumerics].describe()"
   ]
  },
  {
   "cell_type": "markdown",
   "metadata": {},
   "source": [
    "### Number of unknown categorical values\n",
    "\n"
   ]
  },
  {
   "cell_type": "code",
   "execution_count": 67,
   "metadata": {
    "collapsed": false
   },
   "outputs": [],
   "source": [
    "nrow = len(df)\n",
    "for xname in XNonNumerics:\n",
    "    count =  (df[xname] == XUnknowCategoricalValue).sum()\n",
    "    if count > 0:\n",
    "        print (\"{} has {} Unknowns which is {:.1f}%\".format(\n",
    "            xname, count, 100.0*count/nrow))\n",
    "        "
   ]
  },
  {
   "cell_type": "code",
   "execution_count": 68,
   "metadata": {
    "collapsed": false
   },
   "outputs": [
    {
     "data": {
      "image/png": "[encoded data removed]",
      "text/plain": [
       "<matplotlib.figure.Figure at 0x7f5595866110>"
      ]
     },
     "metadata": {},
     "output_type": "display_data"
    },
    {
     "data": {
      "image/png": "[encoded data removed]",
      "text/plain": [
       "<matplotlib.figure.Figure at 0x7f5595603ad0>"
      ]
     },
     "metadata": {},
     "output_type": "display_data"
    },
    {
     "data": {
      "image/png": "[encoded data removed]",
      "text/plain": [
       "<matplotlib.figure.Figure at 0x7f55944e3510>"
      ]
     },
     "metadata": {},
     "output_type": "display_data"
    },
    {
     "data": {
      "image/png": "[encoded data removed]",
      "text/plain": [
       "<matplotlib.figure.Figure at 0x7f559432d410>"
      ]
     },
     "metadata": {},
     "output_type": "display_data"
    },
    {
     "data": {
      "image/png": "[encoded data removed]",
      "text/plain": [
       "<matplotlib.figure.Figure at 0x7f5594175150>"
      ]
     },
     "metadata": {},
     "output_type": "display_data"
    },
    {
     "data": {
      "image/png": "[encoded data removed]",
      "text/plain": [
       "<matplotlib.figure.Figure at 0x7f5593fbe190>"
      ]
     },
     "metadata": {},
     "output_type": "display_data"
    },
    {
     "data": {
      "image/png": "[encoded data removed]",
      "text/plain": [
       "<matplotlib.figure.Figure at 0x7f559432d510>"
      ]
     },
     "metadata": {},
     "output_type": "display_data"
    }
   ],
   "source": [
    "plt.rcParams['font.size'] = 10.0\n",
    "# http://www.statsmodels.org/0.6.1/generated/statsmodels.graphics.mosaicplot.mosaic.html\n",
    "    \n",
    "for x in XNonNumerics:\n",
    "    m = mosaic(df[[x, YName]],\n",
    "           [x, YName],\n",
    "           horizontal=False\n",
    "          )\n",
    "    pylab.xlabel(x, fontsize =5)\n",
    "    pylab.show()"
   ]
  },
  {
   "cell_type": "markdown",
   "metadata": {},
   "source": [
    "## Using H2O to get a first impression of variable importance\n",
    "\n",
    "While the assignment prefers, a more \"fundamental\" approach, it has been my experience that running an initial H2O GBM (Gradient Boosted Machine) model has a number of advantages which are useful for gaining a first impression of the data.\n",
    "\n",
    "H2O GBM\n",
    "\n",
    "* has no need to scale the data\n",
    "* can handle both categorical and continous features\n",
    "* is robust against overfitting\n",
    "* general builds a very good model\n",
    "* is fast\n",
    "* can show you variable importance in the model it builds.\n",
    "\n",
    "However, the \"No Free Lunch Theorem\", does caution us from depending blindly on any one model.  https://en.wikipedia.org/wiki/No_free_lunch_in_search_and_optimization\n",
    "\n",
    "George Box also says, \"All models are wrong, but some are useful.\""
   ]
  },
  {
   "cell_type": "code",
   "execution_count": 69,
   "metadata": {
    "collapsed": false
   },
   "outputs": [
    {
     "name": "stdout",
     "output_type": "stream",
     "text": [
      "Checking whether there is an H2O instance running at http://localhost:54321. connected.\n"
     ]
    },
    {
     "data": {
      "text/html": [
       "<div style=\"overflow:auto\"><table style=\"width:50%\"><tr><td>H2O cluster uptime:</td>\n",
       "<td>5 days 8 hours 31 mins</td></tr>\n",
       "<tr><td>H2O cluster version:</td>\n",
       "<td>3.10.4.7</td></tr>\n",
       "<tr><td>H2O cluster version age:</td>\n",
       "<td>18 days </td></tr>\n",
       "<tr><td>H2O cluster name:</td>\n",
       "<td>H2O_from_python_clement_zanygn</td></tr>\n",
       "<tr><td>H2O cluster total nodes:</td>\n",
       "<td>1</td></tr>\n",
       "<tr><td>H2O cluster free memory:</td>\n",
       "<td>6.718 Gb</td></tr>\n",
       "<tr><td>H2O cluster total cores:</td>\n",
       "<td>8</td></tr>\n",
       "<tr><td>H2O cluster allowed cores:</td>\n",
       "<td>8</td></tr>\n",
       "<tr><td>H2O cluster status:</td>\n",
       "<td>locked, healthy</td></tr>\n",
       "<tr><td>H2O connection url:</td>\n",
       "<td>http://localhost:54321</td></tr>\n",
       "<tr><td>H2O connection proxy:</td>\n",
       "<td>None</td></tr>\n",
       "<tr><td>H2O internal security:</td>\n",
       "<td>False</td></tr>\n",
       "<tr><td>Python version:</td>\n",
       "<td>2.7.13 final</td></tr></table></div>"
      ],
      "text/plain": [
       "--------------------------  ------------------------------\n",
       "H2O cluster uptime:         5 days 8 hours 31 mins\n",
       "H2O cluster version:        3.10.4.7\n",
       "H2O cluster version age:    18 days\n",
       "H2O cluster name:           H2O_from_python_clement_zanygn\n",
       "H2O cluster total nodes:    1\n",
       "H2O cluster free memory:    6.718 Gb\n",
       "H2O cluster total cores:    8\n",
       "H2O cluster allowed cores:  8\n",
       "H2O cluster status:         locked, healthy\n",
       "H2O connection url:         http://localhost:54321\n",
       "H2O connection proxy:\n",
       "H2O internal security:      False\n",
       "Python version:             2.7.13 final\n",
       "--------------------------  ------------------------------"
      ]
     },
     "metadata": {},
     "output_type": "display_data"
    }
   ],
   "source": [
    "PName = \"predict\"   # The name of the predict field for H2O output\n",
    "h2o.init()"
   ]
  },
  {
   "cell_type": "code",
   "execution_count": 70,
   "metadata": {
    "collapsed": false
   },
   "outputs": [
    {
     "name": "stdout",
     "output_type": "stream",
     "text": [
      "Parse progress: |█████████████████████████████████████████████████████████| 100%\n"
     ]
    }
   ],
   "source": [
    "# Make the H2O version of the data frame\n",
    "dfh = h2o.H2OFrame(df)\n",
    "dfh[YName] = dfh[YName].asfactor()   # Force response"
   ]
  },
  {
   "cell_type": "code",
   "execution_count": 71,
   "metadata": {
    "collapsed": false
   },
   "outputs": [
    {
     "data": {
      "text/plain": [
       "True"
      ]
     },
     "execution_count": 71,
     "metadata": {},
     "output_type": "execute_result"
    }
   ],
   "source": [
    "dfh[YName].anyfactor()"
   ]
  },
  {
   "cell_type": "code",
   "execution_count": 72,
   "metadata": {
    "collapsed": false
   },
   "outputs": [
    {
     "data": {
      "text/plain": [
       "['A', 'S', 'I']"
      ]
     },
     "execution_count": 72,
     "metadata": {},
     "output_type": "execute_result"
    }
   ],
   "source": [
    "YValues"
   ]
  },
  {
   "cell_type": "code",
   "execution_count": 131,
   "metadata": {
    "collapsed": false
   },
   "outputs": [],
   "source": [
    "# http://docs.h2o.ai/h2o/latest-stable/h2o-docs/data-science/gbm.html\n",
    "\n",
    "# For doing a grid search, see here:\n",
    "# https://github.com/h2oai/h2o-3/blob/master/h2o-docs/src/product/tutorials/gbm/gbmTuning.ipynb\n",
    "    \n",
    "    \n",
    "gbm = h2o.estimators.gbm.H2OGradientBoostingEstimator(\n",
    "   #  nfolds=4,\n",
    "       # ntrees=10,\n",
    "      #  max_depth=8,    # Of a tree\n",
    ")\n",
    "x = \"\"\"\n",
    "    # DEFAULTS:\n",
    "    nfolds = 0,    # No cross validation folds\n",
    "    ntrees=50,\n",
    "    learn_rate=0.1,\n",
    "    max_depth=5,    # Of a tree\n",
    "    min_row=10,     # Fewest allowed observations in a leaf (weighted)\n",
    "    nbins=20,   # For numeric cols, build histogram of at most this many bins\n",
    "    stopping_tolerance=0.01, #10-fold increase in threshold as defined in rf_v1\n",
    "    stopping_rounds=2,\n",
    "    score_each_iteration=True,\n",
    "\"\"\""
   ]
  },
  {
   "cell_type": "code",
   "execution_count": 132,
   "metadata": {
    "collapsed": false
   },
   "outputs": [
    {
     "name": "stdout",
     "output_type": "stream",
     "text": [
      "gbm Model Build progress: |███████████████████████████████████████████████| 100%\n"
     ]
    }
   ],
   "source": [
    "gbm.train(x=XNames, y=YName, training_frame=dfh)"
   ]
  },
  {
   "cell_type": "code",
   "execution_count": 133,
   "metadata": {
    "collapsed": false
   },
   "outputs": [
    {
     "name": "stdout",
     "output_type": "stream",
     "text": [
      "gbm prediction progress: |████████████████████████████████████████████████| 100%\n"
     ]
    }
   ],
   "source": [
    "pred_train = gbm.predict(dfh)"
   ]
  },
  {
   "cell_type": "code",
   "execution_count": 134,
   "metadata": {
    "collapsed": false
   },
   "outputs": [
    {
     "name": "stdout",
     "output_type": "stream",
     "text": [
      "Training error = 0.233\n",
      "Training accuracy = 0.767\n"
     ]
    }
   ],
   "source": [
    "print (\"Training error = {:.3f}\".format(\n",
    "    1 - (pred_train['predict'] == dfh[YName]).sum()/dfh.nrows))\n",
    "\n",
    "print (\"Training accuracy = {:.3f}\".format(\n",
    "    (pred_train['predict'] == dfh[YName]).sum()/dfh.nrows))\n"
   ]
  },
  {
   "cell_type": "code",
   "execution_count": 135,
   "metadata": {
    "collapsed": false
   },
   "outputs": [
    {
     "data": {
      "text/html": [
       "<table>\n",
       "<thead>\n",
       "<tr><th>predict  </th><th style=\"text-align: right;\">       A</th><th style=\"text-align: right;\">         I</th><th style=\"text-align: right;\">       S</th></tr>\n",
       "</thead>\n",
       "<tbody>\n",
       "<tr><td>A        </td><td style=\"text-align: right;\">0.759588</td><td style=\"text-align: right;\">0.013835  </td><td style=\"text-align: right;\">0.226577</td></tr>\n",
       "<tr><td>A        </td><td style=\"text-align: right;\">0.536838</td><td style=\"text-align: right;\">0.0115711 </td><td style=\"text-align: right;\">0.45159 </td></tr>\n",
       "<tr><td>A        </td><td style=\"text-align: right;\">0.723825</td><td style=\"text-align: right;\">0.0212762 </td><td style=\"text-align: right;\">0.254899</td></tr>\n",
       "<tr><td>A        </td><td style=\"text-align: right;\">0.776312</td><td style=\"text-align: right;\">0.0463463 </td><td style=\"text-align: right;\">0.177342</td></tr>\n",
       "<tr><td>A        </td><td style=\"text-align: right;\">0.836759</td><td style=\"text-align: right;\">0.00824283</td><td style=\"text-align: right;\">0.154998</td></tr>\n",
       "<tr><td>S        </td><td style=\"text-align: right;\">0.353943</td><td style=\"text-align: right;\">0.0989238 </td><td style=\"text-align: right;\">0.547133</td></tr>\n",
       "<tr><td>A        </td><td style=\"text-align: right;\">0.723968</td><td style=\"text-align: right;\">0.0210818 </td><td style=\"text-align: right;\">0.25495 </td></tr>\n",
       "<tr><td>S        </td><td style=\"text-align: right;\">0.47173 </td><td style=\"text-align: right;\">0.00532738</td><td style=\"text-align: right;\">0.522943</td></tr>\n",
       "<tr><td>A        </td><td style=\"text-align: right;\">0.530554</td><td style=\"text-align: right;\">0.0193591 </td><td style=\"text-align: right;\">0.450087</td></tr>\n",
       "<tr><td>A        </td><td style=\"text-align: right;\">0.554989</td><td style=\"text-align: right;\">0.0115489 </td><td style=\"text-align: right;\">0.433462</td></tr>\n",
       "</tbody>\n",
       "</table>"
      ]
     },
     "metadata": {},
     "output_type": "display_data"
    },
    {
     "data": {
      "text/plain": []
     },
     "execution_count": 135,
     "metadata": {},
     "output_type": "execute_result"
    }
   ],
   "source": [
    "pred_train"
   ]
  },
  {
   "cell_type": "markdown",
   "metadata": {},
   "source": [
    "### F1 Score\n",
    "\n",
    "\n",
    "$$F1 = 2 * \\frac{precision * recall}{precision + recall}$$\n",
    "\n",
    "See:\n",
    "\n",
    "https://en.wikipedia.org/wiki/F1_score\n",
    "\n",
    "http://scikit-learn.org/stable/modules/generated/sklearn.metrics.f1_score.html\n"
   ]
  },
  {
   "cell_type": "code",
   "execution_count": 136,
   "metadata": {
    "collapsed": false
   },
   "outputs": [
    {
     "name": "stdout",
     "output_type": "stream",
     "text": [
      "F1 Score for y = 'A' is 0.863\n",
      "F1 Score for y = 'S' is 0.375\n",
      "F1 Score for y = 'I' is 0.000\n"
     ]
    }
   ],
   "source": [
    "# Multinominal classifier\n",
    "f1 = f1_score(dfh[YName].as_data_frame()[YName].tolist(),\n",
    "     pred_train[PName].as_data_frame()[PName].tolist(),\n",
    "     average=None,         \n",
    "     labels=YValues\n",
    "     )    \n",
    "for i, yvalue in enumerate(YValues):\n",
    "    print(\"F1 Score for y = '{}' is {:.3f}\".format(yvalue, f1[i]))\n"
   ]
  },
  {
   "cell_type": "markdown",
   "metadata": {},
   "source": [
    "### ROC\n",
    "\n",
    "http://scikit-learn.org/stable/modules/generated/sklearn.metrics.roc_curve.html\n"
   ]
  },
  {
   "cell_type": "code",
   "execution_count": 137,
   "metadata": {
    "collapsed": false
   },
   "outputs": [
    {
     "data": {
      "image/png": "[encoded data removed]",
      "text/plain": [
       "<matplotlib.figure.Figure at 0x7f55959df090>"
      ]
     },
     "metadata": {},
     "output_type": "display_data"
    },
    {
     "name": "stdout",
     "output_type": "stream",
     "text": [
      "-- AUC is 1.000\n"
     ]
    }
   ],
   "source": [
    "for i, yvalue in enumerate(YValues):\n",
    "    # Get the True and Predicted values\n",
    "    y_true = list(df[YName])\n",
    "    y_true = map(lambda x : 1 if x == yvalue else 0, y_true)\n",
    "\n",
    "    # These are the predicted probabilities\n",
    "    if type(yvalue) is str:\n",
    "        yvalue_column_name = yvalue\n",
    "        y_pred = pred_train[yvalue].as_data_frame()[yvalue].tolist()\n",
    "    else:\n",
    "        yvalue_column_name = \"p\" + str(yvalue)\n",
    "        y_pred = (pred_train.as_data_frame()[yvalue_column_name].tolist())\n",
    "\n",
    "    # Area Under the ROC Curve (AUC)\n",
    "    auc = roc_auc_score(y_true, y_pred)\n",
    "    FalsePositiveRate, TruePositiveRate, thresholds = roc_curve(\n",
    "        y_true,\n",
    "        y_pred)\n",
    "    pylab.plot(FalsePositiveRate,\n",
    "                           TruePositiveRate,\n",
    "                           label=yvalue)\n",
    "pylab.legend(loc='lower right', shadow=True)\n",
    "pylab.show()\n",
    "\n",
    "print(\"-- AUC is {:.3f}\".format(auc))\n"
   ]
  },
  {
   "cell_type": "code",
   "execution_count": 138,
   "metadata": {
    "collapsed": false,
    "scrolled": true
   },
   "outputs": [
    {
     "data": {
      "image/png": "[encoded data removed]",
      "text/plain": [
       "<matplotlib.figure.Figure at 0x7f559420a2d0>"
      ]
     },
     "metadata": {},
     "output_type": "display_data"
    }
   ],
   "source": [
    "gbm.varimp_plot()"
   ]
  },
  {
   "cell_type": "code",
   "execution_count": 139,
   "metadata": {
    "collapsed": false
   },
   "outputs": [
    {
     "data": {
      "text/html": [
       "<div>\n",
       "<style>\n",
       "    .dataframe thead tr:only-child th {\n",
       "        text-align: right;\n",
       "    }\n",
       "\n",
       "    .dataframe thead th {\n",
       "        text-align: left;\n",
       "    }\n",
       "\n",
       "    .dataframe tbody tr th {\n",
       "        vertical-align: top;\n",
       "    }\n",
       "</style>\n",
       "<table border=\"1\" class=\"dataframe\">\n",
       "  <thead>\n",
       "    <tr style=\"text-align: right;\">\n",
       "      <th></th>\n",
       "      <th>variable</th>\n",
       "      <th>relative_importance</th>\n",
       "      <th>scaled_importance</th>\n",
       "      <th>percentage</th>\n",
       "    </tr>\n",
       "  </thead>\n",
       "  <tbody>\n",
       "    <tr>\n",
       "      <th>0</th>\n",
       "      <td>L-SURF</td>\n",
       "      <td>16.595419</td>\n",
       "      <td>1.000000</td>\n",
       "      <td>0.329607</td>\n",
       "    </tr>\n",
       "    <tr>\n",
       "      <th>1</th>\n",
       "      <td>BP-STBL</td>\n",
       "      <td>12.475285</td>\n",
       "      <td>0.751731</td>\n",
       "      <td>0.247775</td>\n",
       "    </tr>\n",
       "    <tr>\n",
       "      <th>2</th>\n",
       "      <td>SURF-STBL</td>\n",
       "      <td>8.326869</td>\n",
       "      <td>0.501757</td>\n",
       "      <td>0.165382</td>\n",
       "    </tr>\n",
       "    <tr>\n",
       "      <th>3</th>\n",
       "      <td>L-BP</td>\n",
       "      <td>5.431911</td>\n",
       "      <td>0.327314</td>\n",
       "      <td>0.107885</td>\n",
       "    </tr>\n",
       "    <tr>\n",
       "      <th>4</th>\n",
       "      <td>L-CORE</td>\n",
       "      <td>4.688613</td>\n",
       "      <td>0.282525</td>\n",
       "      <td>0.093122</td>\n",
       "    </tr>\n",
       "    <tr>\n",
       "      <th>5</th>\n",
       "      <td>L-O2</td>\n",
       "      <td>2.252546</td>\n",
       "      <td>0.135733</td>\n",
       "      <td>0.044738</td>\n",
       "    </tr>\n",
       "    <tr>\n",
       "      <th>6</th>\n",
       "      <td>COMFORT</td>\n",
       "      <td>0.578537</td>\n",
       "      <td>0.034861</td>\n",
       "      <td>0.011491</td>\n",
       "    </tr>\n",
       "    <tr>\n",
       "      <th>7</th>\n",
       "      <td>CORE-STBL</td>\n",
       "      <td>0.000000</td>\n",
       "      <td>0.000000</td>\n",
       "      <td>0.000000</td>\n",
       "    </tr>\n",
       "  </tbody>\n",
       "</table>\n",
       "</div>"
      ],
      "text/plain": [
       "    variable  relative_importance  scaled_importance  percentage\n",
       "0     L-SURF            16.595419           1.000000    0.329607\n",
       "1    BP-STBL            12.475285           0.751731    0.247775\n",
       "2  SURF-STBL             8.326869           0.501757    0.165382\n",
       "3       L-BP             5.431911           0.327314    0.107885\n",
       "4     L-CORE             4.688613           0.282525    0.093122\n",
       "5       L-O2             2.252546           0.135733    0.044738\n",
       "6    COMFORT             0.578537           0.034861    0.011491\n",
       "7  CORE-STBL             0.000000           0.000000    0.000000"
      ]
     },
     "execution_count": 139,
     "metadata": {},
     "output_type": "execute_result"
    }
   ],
   "source": [
    "varimp = pd.DataFrame(gbm.varimp(),\n",
    "             columns=\n",
    "             [\"variable\",\n",
    "              \"relative_importance\",\n",
    "              \"scaled_importance\",\n",
    "              \"percentage\"]\n",
    "            )\n",
    "top5 = varimp['variable'][0:5].tolist() + [YName]\n",
    "varimp"
   ]
  },
  {
   "cell_type": "code",
   "execution_count": 34,
   "metadata": {
    "collapsed": false
   },
   "outputs": [],
   "source": [
    "# TBD - figure out a pairs plot for top 5 most important variables\n",
    "#  -- tricky - how to do it with both categorical and numeric values\n",
    "\n",
    "# from pandas.tools.plotting import scatter_matrix\n",
    "# scatter_matrix(df[top5],\n",
    "\n",
    "#### df[top5].plot(subplots=True, layout)"
   ]
  },
  {
   "cell_type": "code",
   "execution_count": null,
   "metadata": {
    "collapsed": true
   },
   "outputs": [],
   "source": [
    "if False:\n",
    "    h2o.shutdown(prompt = False)"
   ]
  }
 ],
 "metadata": {
  "kernelspec": {
   "display_name": "Python 2",
   "language": "python",
   "name": "python2"
  },
  "language_info": {
   "codemirror_mode": {
    "name": "ipython",
    "version": 2
   },
   "file_extension": ".py",
   "mimetype": "text/x-python",
   "name": "python",
   "nbconvert_exporter": "python",
   "pygments_lexer": "ipython2",
   "version": "2.7.13"
  }
 },
 "nbformat": 4,
 "nbformat_minor": 2
}
