{
 "cells": [
  {
   "cell_type": "markdown",
   "metadata": {},
   "source": [
    "# Clem's Machine Learning Template\n",
    "## HR Data\n",
    "\n",
    "This is what Clem uses to scout out an initial data set for classification to get a \"lay of the land\".\n",
    "\n",
    "While, it is unwise to favor a particular ML methodology, H2O's GBM has a lot of advantages that makes it really good for a first pass:\n",
    "\n",
    "* Fast\n",
    "* Robust to overfitting over a wide range of hyper parameters\n",
    "* Handles both categorical and continous variables\n",
    "* No need to scale the data\n",
    "\n",
    "Change sections that are labeled:\n",
    "\n",
    "    #@@@@@ CHANGE FOR SPECIFIC PROBLEM\n",
    "\n",
    "This data is from https://www.kaggle.com/ludobenistant/hr-analytics\n"
   ]
  },
  {
   "cell_type": "markdown",
   "metadata": {},
   "source": [
    "## Data Preparation"
   ]
  },
  {
   "cell_type": "code",
   "execution_count": 1,
   "metadata": {
    "collapsed": false
   },
   "outputs": [],
   "source": [
    "# Python Libraries\n",
    "from __future__ import division   # So that / does floating point division\n",
    "import numpy as np\n",
    "import pandas as pd\n",
    "import seaborn as sns\n",
    "import scipy\n",
    "import commands\n",
    "import math\n",
    "import matplotlib.pyplot as plt\n",
    "%matplotlib inline\n",
    "\n",
    "from statsmodels.graphics.mosaicplot import mosaic\n",
    "import pylab\n",
    "\n",
    "import h2o\n",
    "\n",
    "from sklearn.metrics import f1_score\n",
    "from sklearn.metrics import roc_curve\n",
    "from sklearn.metrics import roc_auc_score\n"
   ]
  },
  {
   "cell_type": "code",
   "execution_count": 2,
   "metadata": {
    "collapsed": true
   },
   "outputs": [],
   "source": [
    "#@@@@@ CHANGE FOR SPECIFIC PROBLEM\n",
    "\n",
    "# Column names in case they aren't in an header\n",
    "\n",
    "column_names =[\n",
    "]"
   ]
  },
  {
   "cell_type": "code",
   "execution_count": 3,
   "metadata": {
    "collapsed": false
   },
   "outputs": [],
   "source": [
    "#@@@@@ CHANGE FOR SPECIFIC PROBLEM\n",
    "\n",
    "# http://pandas.pydata.org/pandas-docs/stable/generated/pandas.read_csv.html\n",
    "\n",
    "# Very Problem specific\n",
    "\n",
    "df = pd.read_csv(\n",
    "    \"HR_comma_sep.csv\",\n",
    "    sep=\",\",\n",
    "    header=0,   # Row the header is on or None if no header present\n",
    "    # names=column_names,\n",
    "    # skipinitialspace = True  # Skip spaces after delimiter\n",
    ")\n",
    "\n"
   ]
  },
  {
   "cell_type": "code",
   "execution_count": 4,
   "metadata": {
    "collapsed": false
   },
   "outputs": [
    {
     "data": {
      "text/plain": [
       "array(['satisfaction_level', 'last_evaluation', 'number_project',\n",
       "       'average_montly_hours', 'time_spend_company', 'Work_accident',\n",
       "       'left', 'promotion_last_5years', 'sales', 'salary'], dtype=object)"
      ]
     },
     "execution_count": 4,
     "metadata": {},
     "output_type": "execute_result"
    }
   ],
   "source": [
    "# Names of columns - check to see if we got it right\n",
    "df.columns.values"
   ]
  },
  {
   "cell_type": "code",
   "execution_count": 5,
   "metadata": {
    "collapsed": false
   },
   "outputs": [
    {
     "data": {
      "text/html": [
       "<div>\n",
       "<style>\n",
       "    .dataframe thead tr:only-child th {\n",
       "        text-align: right;\n",
       "    }\n",
       "\n",
       "    .dataframe thead th {\n",
       "        text-align: left;\n",
       "    }\n",
       "\n",
       "    .dataframe tbody tr th {\n",
       "        vertical-align: top;\n",
       "    }\n",
       "</style>\n",
       "<table border=\"1\" class=\"dataframe\">\n",
       "  <thead>\n",
       "    <tr style=\"text-align: right;\">\n",
       "      <th></th>\n",
       "      <th>satisfaction_level</th>\n",
       "      <th>last_evaluation</th>\n",
       "      <th>number_project</th>\n",
       "      <th>average_montly_hours</th>\n",
       "      <th>time_spend_company</th>\n",
       "      <th>Work_accident</th>\n",
       "      <th>left</th>\n",
       "      <th>promotion_last_5years</th>\n",
       "      <th>sales</th>\n",
       "      <th>salary</th>\n",
       "    </tr>\n",
       "  </thead>\n",
       "  <tbody>\n",
       "    <tr>\n",
       "      <th>0</th>\n",
       "      <td>0.38</td>\n",
       "      <td>0.53</td>\n",
       "      <td>2</td>\n",
       "      <td>157</td>\n",
       "      <td>3</td>\n",
       "      <td>0</td>\n",
       "      <td>1</td>\n",
       "      <td>0</td>\n",
       "      <td>sales</td>\n",
       "      <td>low</td>\n",
       "    </tr>\n",
       "    <tr>\n",
       "      <th>1</th>\n",
       "      <td>0.80</td>\n",
       "      <td>0.86</td>\n",
       "      <td>5</td>\n",
       "      <td>262</td>\n",
       "      <td>6</td>\n",
       "      <td>0</td>\n",
       "      <td>1</td>\n",
       "      <td>0</td>\n",
       "      <td>sales</td>\n",
       "      <td>medium</td>\n",
       "    </tr>\n",
       "    <tr>\n",
       "      <th>2</th>\n",
       "      <td>0.11</td>\n",
       "      <td>0.88</td>\n",
       "      <td>7</td>\n",
       "      <td>272</td>\n",
       "      <td>4</td>\n",
       "      <td>0</td>\n",
       "      <td>1</td>\n",
       "      <td>0</td>\n",
       "      <td>sales</td>\n",
       "      <td>medium</td>\n",
       "    </tr>\n",
       "    <tr>\n",
       "      <th>3</th>\n",
       "      <td>0.72</td>\n",
       "      <td>0.87</td>\n",
       "      <td>5</td>\n",
       "      <td>223</td>\n",
       "      <td>5</td>\n",
       "      <td>0</td>\n",
       "      <td>1</td>\n",
       "      <td>0</td>\n",
       "      <td>sales</td>\n",
       "      <td>low</td>\n",
       "    </tr>\n",
       "    <tr>\n",
       "      <th>4</th>\n",
       "      <td>0.37</td>\n",
       "      <td>0.52</td>\n",
       "      <td>2</td>\n",
       "      <td>159</td>\n",
       "      <td>3</td>\n",
       "      <td>0</td>\n",
       "      <td>1</td>\n",
       "      <td>0</td>\n",
       "      <td>sales</td>\n",
       "      <td>low</td>\n",
       "    </tr>\n",
       "  </tbody>\n",
       "</table>\n",
       "</div>"
      ],
      "text/plain": [
       "   satisfaction_level  last_evaluation  number_project  average_montly_hours  \\\n",
       "0                0.38             0.53               2                   157   \n",
       "1                0.80             0.86               5                   262   \n",
       "2                0.11             0.88               7                   272   \n",
       "3                0.72             0.87               5                   223   \n",
       "4                0.37             0.52               2                   159   \n",
       "\n",
       "   time_spend_company  Work_accident  left  promotion_last_5years  sales  \\\n",
       "0                   3              0     1                      0  sales   \n",
       "1                   6              0     1                      0  sales   \n",
       "2                   4              0     1                      0  sales   \n",
       "3                   5              0     1                      0  sales   \n",
       "4                   3              0     1                      0  sales   \n",
       "\n",
       "   salary  \n",
       "0     low  \n",
       "1  medium  \n",
       "2  medium  \n",
       "3     low  \n",
       "4     low  "
      ]
     },
     "execution_count": 5,
     "metadata": {},
     "output_type": "execute_result"
    }
   ],
   "source": [
    "df.head()"
   ]
  },
  {
   "cell_type": "code",
   "execution_count": 6,
   "metadata": {
    "collapsed": false
   },
   "outputs": [],
   "source": [
    "#@@@@@ CHANGE FOR SPECIFIC PROBLEM\n",
    "# Drop any columns that don't make sense, if any\n",
    "if False:\n",
    "    df = df.drop(\"COLUMN-NAME-THAT-IS-USELESS\",  #\n",
    "                 1)  # 1 means drops in column direction\n",
    "    \n",
    "# Fix up any data"
   ]
  },
  {
   "cell_type": "markdown",
   "metadata": {},
   "source": [
    "## Get Names of Columns"
   ]
  },
  {
   "cell_type": "markdown",
   "metadata": {},
   "source": [
    "### Problem Specific\n",
    "These are the values that are problem specific.  We use variable names from now on so that the code can be reused."
   ]
  },
  {
   "cell_type": "code",
   "execution_count": 7,
   "metadata": {
    "collapsed": true
   },
   "outputs": [],
   "source": [
    "#@@@@@ CHANGE FOR SPECIFIC PROBLEM\n",
    "YName = 'left'     # Name of Response Variable\n",
    "XUnknowCategoricalValue = None  # or string that represents no categorical\n",
    "\n",
    "\n",
    "\n"
   ]
  },
  {
   "cell_type": "code",
   "execution_count": 8,
   "metadata": {
    "collapsed": false
   },
   "outputs": [],
   "source": [
    "# Automatically convert response variable that are ints\n",
    "# into catgorical values\n",
    "if df[YName].dtype == 'int64':\n",
    "    df[YName] = df[YName].astype(\"category\", ordered=False)\n"
   ]
  },
  {
   "cell_type": "markdown",
   "metadata": {},
   "source": [
    "Programmatically get list of names of:\n",
    "* numeric features\n",
    "* non-numeric features\n"
   ]
  },
  {
   "cell_type": "code",
   "execution_count": 9,
   "metadata": {
    "collapsed": false,
    "scrolled": false
   },
   "outputs": [
    {
     "name": "stdout",
     "output_type": "stream",
     "text": [
      "-- Non-Numeric Input Feature Names:\n",
      "['sales', 'salary']\n",
      "\n",
      "-- Numeric Input Feature Names:\n",
      "['satisfaction_level', 'last_evaluation', 'number_project', 'average_montly_hours', 'time_spend_company', 'Work_accident', 'promotion_last_5years']\n",
      "\n",
      "-- All Input Feature Names:\n",
      "['satisfaction_level', 'last_evaluation', 'number_project', 'average_montly_hours', 'time_spend_company', 'Work_accident', 'promotion_last_5years', 'sales', 'salary']\n",
      "\n",
      "-- Output (Response) Variable name:\n",
      "left\n",
      "\n",
      "-- All possible values of Output (Response Variable):\n",
      "[1, 0]\n"
     ]
    }
   ],
   "source": [
    "# Names of all the input features \n",
    "XNames = [x for x in df.columns.values if x != YName]\n",
    "\n",
    "# Names of all the Non-Numeric input features\n",
    "XNonNumerics = [x for x in XNames \\\n",
    "                if not (df[x].dtype == np.float64 \\\n",
    "                        or df[x].dtype == np.int64)]\n",
    "\n",
    "# Names of all the Non-Numeric input features\n",
    "XNumerics = [x for x in XNames if x not in XNonNumerics]\n",
    "\n",
    "# All the different Classification values that Y can take on\n",
    "YValues = list(df[YName].unique())\n",
    "\n",
    "print(\"-- Non-Numeric Input Feature Names:\")\n",
    "print(XNonNumerics)   # Of type pandas.core.series.Series\n",
    "print(\"\\n-- Numeric Input Feature Names:\")\n",
    "print(XNumerics)\n",
    "print(\"\\n-- All Input Feature Names:\")\n",
    "print(XNames)\n",
    "print(\"\\n-- Output (Response) Variable name:\")\n",
    "print(YName)\n",
    "print(\"\\n-- All possible values of Output (Response Variable):\")\n",
    "print(YValues)   # Classification values"
   ]
  },
  {
   "cell_type": "markdown",
   "metadata": {},
   "source": [
    "## Data Exploration\n",
    "\n",
    "Here, we plot the data to get a sense of which data"
   ]
  },
  {
   "cell_type": "code",
   "execution_count": 10,
   "metadata": {
    "collapsed": false
   },
   "outputs": [
    {
     "data": {
      "text/plain": [
       "satisfaction_level       float64\n",
       "last_evaluation          float64\n",
       "number_project             int64\n",
       "average_montly_hours       int64\n",
       "time_spend_company         int64\n",
       "Work_accident              int64\n",
       "promotion_last_5years      int64\n",
       "dtype: object"
      ]
     },
     "execution_count": 10,
     "metadata": {},
     "output_type": "execute_result"
    }
   ],
   "source": [
    "df[XNumerics].dtypes "
   ]
  },
  {
   "cell_type": "code",
   "execution_count": 11,
   "metadata": {
    "collapsed": false
   },
   "outputs": [
    {
     "name": "stdout",
     "output_type": "stream",
     "text": [
      "1 is 23.8%\n",
      "0 is 76.2%\n"
     ]
    }
   ],
   "source": [
    "# how balanced is the data\n",
    "for w in YValues:\n",
    "    s = sum(list(df[YName] == w))\n",
    "    print(\"{} is {:.1f}%\".format(w,\n",
    "                             100*s/len(df)))"
   ]
  },
  {
   "cell_type": "markdown",
   "metadata": {},
   "source": [
    "### Numeric Data"
   ]
  },
  {
   "cell_type": "code",
   "execution_count": 12,
   "metadata": {
    "collapsed": false,
    "scrolled": false
   },
   "outputs": [
    {
     "data": {
      "text/html": [
       "<div>\n",
       "<style>\n",
       "    .dataframe thead tr:only-child th {\n",
       "        text-align: right;\n",
       "    }\n",
       "\n",
       "    .dataframe thead th {\n",
       "        text-align: left;\n",
       "    }\n",
       "\n",
       "    .dataframe tbody tr th {\n",
       "        vertical-align: top;\n",
       "    }\n",
       "</style>\n",
       "<table border=\"1\" class=\"dataframe\">\n",
       "  <thead>\n",
       "    <tr style=\"text-align: right;\">\n",
       "      <th></th>\n",
       "      <th>count</th>\n",
       "      <th>mean</th>\n",
       "      <th>std</th>\n",
       "      <th>min</th>\n",
       "      <th>25%</th>\n",
       "      <th>50%</th>\n",
       "      <th>75%</th>\n",
       "      <th>max</th>\n",
       "    </tr>\n",
       "  </thead>\n",
       "  <tbody>\n",
       "    <tr>\n",
       "      <th>satisfaction_level</th>\n",
       "      <td>14999.0</td>\n",
       "      <td>0.612834</td>\n",
       "      <td>0.248631</td>\n",
       "      <td>0.09</td>\n",
       "      <td>0.44</td>\n",
       "      <td>0.64</td>\n",
       "      <td>0.82</td>\n",
       "      <td>1.0</td>\n",
       "    </tr>\n",
       "    <tr>\n",
       "      <th>last_evaluation</th>\n",
       "      <td>14999.0</td>\n",
       "      <td>0.716102</td>\n",
       "      <td>0.171169</td>\n",
       "      <td>0.36</td>\n",
       "      <td>0.56</td>\n",
       "      <td>0.72</td>\n",
       "      <td>0.87</td>\n",
       "      <td>1.0</td>\n",
       "    </tr>\n",
       "    <tr>\n",
       "      <th>number_project</th>\n",
       "      <td>14999.0</td>\n",
       "      <td>3.803054</td>\n",
       "      <td>1.232592</td>\n",
       "      <td>2.00</td>\n",
       "      <td>3.00</td>\n",
       "      <td>4.00</td>\n",
       "      <td>5.00</td>\n",
       "      <td>7.0</td>\n",
       "    </tr>\n",
       "    <tr>\n",
       "      <th>average_montly_hours</th>\n",
       "      <td>14999.0</td>\n",
       "      <td>201.050337</td>\n",
       "      <td>49.943099</td>\n",
       "      <td>96.00</td>\n",
       "      <td>156.00</td>\n",
       "      <td>200.00</td>\n",
       "      <td>245.00</td>\n",
       "      <td>310.0</td>\n",
       "    </tr>\n",
       "    <tr>\n",
       "      <th>time_spend_company</th>\n",
       "      <td>14999.0</td>\n",
       "      <td>3.498233</td>\n",
       "      <td>1.460136</td>\n",
       "      <td>2.00</td>\n",
       "      <td>3.00</td>\n",
       "      <td>3.00</td>\n",
       "      <td>4.00</td>\n",
       "      <td>10.0</td>\n",
       "    </tr>\n",
       "    <tr>\n",
       "      <th>Work_accident</th>\n",
       "      <td>14999.0</td>\n",
       "      <td>0.144610</td>\n",
       "      <td>0.351719</td>\n",
       "      <td>0.00</td>\n",
       "      <td>0.00</td>\n",
       "      <td>0.00</td>\n",
       "      <td>0.00</td>\n",
       "      <td>1.0</td>\n",
       "    </tr>\n",
       "    <tr>\n",
       "      <th>promotion_last_5years</th>\n",
       "      <td>14999.0</td>\n",
       "      <td>0.021268</td>\n",
       "      <td>0.144281</td>\n",
       "      <td>0.00</td>\n",
       "      <td>0.00</td>\n",
       "      <td>0.00</td>\n",
       "      <td>0.00</td>\n",
       "      <td>1.0</td>\n",
       "    </tr>\n",
       "  </tbody>\n",
       "</table>\n",
       "</div>"
      ],
      "text/plain": [
       "                         count        mean        std    min     25%     50%  \\\n",
       "satisfaction_level     14999.0    0.612834   0.248631   0.09    0.44    0.64   \n",
       "last_evaluation        14999.0    0.716102   0.171169   0.36    0.56    0.72   \n",
       "number_project         14999.0    3.803054   1.232592   2.00    3.00    4.00   \n",
       "average_montly_hours   14999.0  201.050337  49.943099  96.00  156.00  200.00   \n",
       "time_spend_company     14999.0    3.498233   1.460136   2.00    3.00    3.00   \n",
       "Work_accident          14999.0    0.144610   0.351719   0.00    0.00    0.00   \n",
       "promotion_last_5years  14999.0    0.021268   0.144281   0.00    0.00    0.00   \n",
       "\n",
       "                          75%    max  \n",
       "satisfaction_level       0.82    1.0  \n",
       "last_evaluation          0.87    1.0  \n",
       "number_project           5.00    7.0  \n",
       "average_montly_hours   245.00  310.0  \n",
       "time_spend_company       4.00   10.0  \n",
       "Work_accident            0.00    1.0  \n",
       "promotion_last_5years    0.00    1.0  "
      ]
     },
     "execution_count": 12,
     "metadata": {},
     "output_type": "execute_result"
    }
   ],
   "source": [
    "df[XNumerics].describe().transpose()"
   ]
  },
  {
   "cell_type": "code",
   "execution_count": 13,
   "metadata": {
    "collapsed": false
   },
   "outputs": [
    {
     "name": "stdout",
     "output_type": "stream",
     "text": [
      "satisfaction_level has 92 float64 uniques in a range 0.9\n",
      "last_evaluation has 65 float64 uniques in a range 0.6\n",
      "number_project has 6 int uniques with a density of 100.0% in range 6\n",
      "average_montly_hours has 215 int uniques with a density of 100.0% in range 215\n",
      "time_spend_company has 8 int uniques with a density of 88.9% in range 9\n",
      "Work_accident has 2 int uniques with a density of 100.0% in range 2\n",
      "promotion_last_5years has 2 int uniques with a density of 100.0% in range 2\n"
     ]
    }
   ],
   "source": [
    "for xname in XNumerics:\n",
    "    uniques = len(df[xname].unique())\n",
    "    dtype = df[xname].dtypes\n",
    "    if dtype == 'int64':\n",
    "        range_x = df[xname].max() - df[xname].min() + 1\n",
    "        print(\n",
    "            \"{} has {} int uniques with a density of {:.1f}% in range {}\".format(\n",
    "            xname, uniques, 100.0*uniques/range_x, range_x))\n",
    "    else:\n",
    "        range_x = df[xname].max() - df[xname].min()\n",
    "        print(\"{} has {} float64 uniques in a range {:.1f}\".format(\n",
    "            xname, uniques, range_x))\n",
    "       "
   ]
  },
  {
   "cell_type": "code",
   "execution_count": 14,
   "metadata": {
    "collapsed": false
   },
   "outputs": [],
   "source": [
    "# Number of unknown Numeric Values\n",
    "nrow = len(df)\n",
    "for xname in XNumerics:\n",
    "    count =  (df[xname].apply(math.isnan)).sum()\n",
    "    if count > 0:\n",
    "        print (\"{} has {} '{}'s which is {:.1f}%\".format(\n",
    "            xname,\n",
    "            count,\n",
    "            XUnknowCategoricalValue,\n",
    "            100.0*count/nrow))\n"
   ]
  },
  {
   "cell_type": "code",
   "execution_count": 15,
   "metadata": {
    "collapsed": false
   },
   "outputs": [
    {
     "data": {
      "image/png": "[encoded data removed]",
      "text/plain": [
       "<matplotlib.figure.Figure at 0x7fdf2ca6d9d0>"
      ]
     },
     "metadata": {},
     "output_type": "display_data"
    },
    {
     "data": {
      "image/png": "[encoded data removed]",
      "text/plain": [
       "<matplotlib.figure.Figure at 0x7fdf27176a50>"
      ]
     },
     "metadata": {},
     "output_type": "display_data"
    },
    {
     "data": {
      "image/png": "[encoded data removed]",
      "text/plain": [
       "<matplotlib.figure.Figure at 0x7fdf270154d0>"
      ]
     },
     "metadata": {},
     "output_type": "display_data"
    },
    {
     "data": {
      "image/png": "[encoded data removed]",
      "text/plain": [
       "<matplotlib.figure.Figure at 0x7fdf26f70b50>"
      ]
     },
     "metadata": {},
     "output_type": "display_data"
    },
    {
     "data": {
      "image/png": "[encoded data removed]",
      "text/plain": [
       "<matplotlib.figure.Figure at 0x7fdf26f02f10>"
      ]
     },
     "metadata": {},
     "output_type": "display_data"
    },
    {
     "data": {
      "image/png": "[encoded data removed]",
      "text/plain": [
       "<matplotlib.figure.Figure at 0x7fdf26e41ad0>"
      ]
     },
     "metadata": {},
     "output_type": "display_data"
    },
    {
     "data": {
      "image/png": "[encoded data removed]",
      "text/plain": [
       "<matplotlib.figure.Figure at 0x7fdf26d3d5d0>"
      ]
     },
     "metadata": {},
     "output_type": "display_data"
    }
   ],
   "source": [
    "# Violin Plot of numeric data\n",
    "for x in XNumerics:\n",
    "    sns.violinplot(y = df[x],\n",
    "                   x = df[YName],\n",
    "                   # Width indicates relative count.  >50K is less frequent\n",
    "                   scale=\"count\" , \n",
    "                   inner=\"box\",\n",
    "                   palette=\"muted\",\n",
    "                   split=True\n",
    "                  )\n",
    "    plt.show()"
   ]
  },
  {
   "cell_type": "markdown",
   "metadata": {},
   "source": [
    "### Non-Numeric Data"
   ]
  },
  {
   "cell_type": "code",
   "execution_count": 16,
   "metadata": {
    "collapsed": false
   },
   "outputs": [
    {
     "name": "stdout",
     "output_type": "stream",
     "text": [
      "sales has 10 uniques\n",
      "salary has 3 uniques\n"
     ]
    }
   ],
   "source": [
    "for xname in XNonNumerics:\n",
    "    uniques = len(df[xname].unique())\n",
    "    print(\"{} has {} uniques\".format(\n",
    "        xname, uniques))"
   ]
  },
  {
   "cell_type": "code",
   "execution_count": 17,
   "metadata": {
    "collapsed": false
   },
   "outputs": [],
   "source": [
    "# Number of unknown NonNumeric Values\n",
    "nrow = len(df)\n",
    "for xname in XNonNumerics:\n",
    "    count =  (df[xname] == XUnknowCategoricalValue).sum()\n",
    "    if count > 0:\n",
    "        print (\"{} has {} '{}'s which is {:.1f}%\".format(\n",
    "            xname,\n",
    "            count,\n",
    "            XUnknowCategoricalValue,\n",
    "            100.0*count/nrow))\n",
    "        "
   ]
  },
  {
   "cell_type": "code",
   "execution_count": 18,
   "metadata": {
    "collapsed": false
   },
   "outputs": [
    {
     "data": {
      "text/html": [
       "<div>\n",
       "<style>\n",
       "    .dataframe thead tr:only-child th {\n",
       "        text-align: right;\n",
       "    }\n",
       "\n",
       "    .dataframe thead th {\n",
       "        text-align: left;\n",
       "    }\n",
       "\n",
       "    .dataframe tbody tr th {\n",
       "        vertical-align: top;\n",
       "    }\n",
       "</style>\n",
       "<table border=\"1\" class=\"dataframe\">\n",
       "  <thead>\n",
       "    <tr style=\"text-align: right;\">\n",
       "      <th></th>\n",
       "      <th>count</th>\n",
       "      <th>unique</th>\n",
       "      <th>top</th>\n",
       "      <th>freq</th>\n",
       "    </tr>\n",
       "  </thead>\n",
       "  <tbody>\n",
       "    <tr>\n",
       "      <th>sales</th>\n",
       "      <td>14999</td>\n",
       "      <td>10</td>\n",
       "      <td>sales</td>\n",
       "      <td>4140</td>\n",
       "    </tr>\n",
       "    <tr>\n",
       "      <th>salary</th>\n",
       "      <td>14999</td>\n",
       "      <td>3</td>\n",
       "      <td>low</td>\n",
       "      <td>7316</td>\n",
       "    </tr>\n",
       "  </tbody>\n",
       "</table>\n",
       "</div>"
      ],
      "text/plain": [
       "        count unique    top  freq\n",
       "sales   14999     10  sales  4140\n",
       "salary  14999      3    low  7316"
      ]
     },
     "execution_count": 18,
     "metadata": {},
     "output_type": "execute_result"
    }
   ],
   "source": [
    "df[XNonNumerics].describe().transpose()"
   ]
  },
  {
   "cell_type": "markdown",
   "metadata": {},
   "source": [
    "### Number of unknown categorical values\n",
    "\n"
   ]
  },
  {
   "cell_type": "code",
   "execution_count": 19,
   "metadata": {
    "collapsed": false
   },
   "outputs": [],
   "source": [
    "nrow = len(df)\n",
    "for xname in XNonNumerics:\n",
    "    count =  (df[xname] == XUnknowCategoricalValue).sum()\n",
    "    if count > 0:\n",
    "        print (\"{} has {} Unknowns which is {:.1f}%\".format(\n",
    "            xname, count, 100.0*count/nrow))\n",
    "        "
   ]
  },
  {
   "cell_type": "code",
   "execution_count": 20,
   "metadata": {
    "collapsed": false
   },
   "outputs": [
    {
     "data": {
      "image/png": "[encoded data removed]",
      "text/plain": [
       "<matplotlib.figure.Figure at 0x7fdf26ce2650>"
      ]
     },
     "metadata": {},
     "output_type": "display_data"
    },
    {
     "data": {
      "image/png": "[encoded data removed]",
      "text/plain": [
       "<matplotlib.figure.Figure at 0x7fdf269d1810>"
      ]
     },
     "metadata": {},
     "output_type": "display_data"
    }
   ],
   "source": [
    "plt.rcParams['font.size'] = 10.0\n",
    "# http://www.statsmodels.org/0.6.1/generated/statsmodels.graphics.mosaicplot.mosaic.html\n",
    "    \n",
    "for x in XNonNumerics:\n",
    "    m = mosaic(df[[x, YName]],\n",
    "           [x, YName],\n",
    "           horizontal=False\n",
    "          )\n",
    "    pylab.xlabel(x, fontsize =5)\n",
    "    pylab.show()"
   ]
  },
  {
   "cell_type": "markdown",
   "metadata": {},
   "source": [
    "## Using H2O to get a first impression of variable importance\n",
    "\n",
    "While the assignment prefers, a more \"fundamental\" approach, it has been my experience that running an initial H2O GBM (Gradient Boosted Machine) model has a number of advantages which are useful for gaining a first impression of the data.\n",
    "\n",
    "H2O GBM\n",
    "\n",
    "* has no need to scale the data\n",
    "* can handle both categorical and continous features\n",
    "* is robust against overfitting\n",
    "* general builds a very good model\n",
    "* is fast\n",
    "* can show you variable importance in the model it builds.\n",
    "\n",
    "However, the \"No Free Lunch Theorem\", does caution us from depending blindly on any one model.  https://en.wikipedia.org/wiki/No_free_lunch_in_search_and_optimization\n",
    "\n",
    "George Box also says, \"All models are wrong, but some are useful.\""
   ]
  },
  {
   "cell_type": "code",
   "execution_count": 21,
   "metadata": {
    "collapsed": false
   },
   "outputs": [
    {
     "name": "stdout",
     "output_type": "stream",
     "text": [
      "Checking whether there is an H2O instance running at http://localhost:54321..... not found.\n",
      "Attempting to start a local H2O server...\n",
      "  Java Version: openjdk version \"1.8.0_121\"; OpenJDK Runtime Environment (Zulu 8.20.0.5-linux64) (build 1.8.0_121-b15); OpenJDK 64-Bit Server VM (Zulu 8.20.0.5-linux64) (build 25.121-b15, mixed mode)\n",
      "  Starting server from /usr/local/anaconda2/lib/python2.7/site-packages/h2o/backend/bin/h2o.jar\n",
      "  Ice root: /tmp/tmpd1PEp9\n",
      "  JVM stdout: /tmp/tmpd1PEp9/h2o_clem_started_from_python.out\n",
      "  JVM stderr: /tmp/tmpd1PEp9/h2o_clem_started_from_python.err\n",
      "  Server is running at http://127.0.0.1:54321\n",
      "Connecting to H2O server at http://127.0.0.1:54321... successful.\n"
     ]
    },
    {
     "data": {
      "text/html": [
       "<div style=\"overflow:auto\"><table style=\"width:50%\"><tr><td>H2O cluster uptime:</td>\n",
       "<td>01 secs</td></tr>\n",
       "<tr><td>H2O cluster version:</td>\n",
       "<td>3.10.4.8</td></tr>\n",
       "<tr><td>H2O cluster version age:</td>\n",
       "<td>8 days </td></tr>\n",
       "<tr><td>H2O cluster name:</td>\n",
       "<td>H2O_from_python_clem_1ln428</td></tr>\n",
       "<tr><td>H2O cluster total nodes:</td>\n",
       "<td>1</td></tr>\n",
       "<tr><td>H2O cluster free memory:</td>\n",
       "<td>6.973 Gb</td></tr>\n",
       "<tr><td>H2O cluster total cores:</td>\n",
       "<td>8</td></tr>\n",
       "<tr><td>H2O cluster allowed cores:</td>\n",
       "<td>8</td></tr>\n",
       "<tr><td>H2O cluster status:</td>\n",
       "<td>accepting new members, healthy</td></tr>\n",
       "<tr><td>H2O connection url:</td>\n",
       "<td>http://127.0.0.1:54321</td></tr>\n",
       "<tr><td>H2O connection proxy:</td>\n",
       "<td>None</td></tr>\n",
       "<tr><td>H2O internal security:</td>\n",
       "<td>False</td></tr>\n",
       "<tr><td>Python version:</td>\n",
       "<td>2.7.13 final</td></tr></table></div>"
      ],
      "text/plain": [
       "--------------------------  ------------------------------\n",
       "H2O cluster uptime:         01 secs\n",
       "H2O cluster version:        3.10.4.8\n",
       "H2O cluster version age:    8 days\n",
       "H2O cluster name:           H2O_from_python_clem_1ln428\n",
       "H2O cluster total nodes:    1\n",
       "H2O cluster free memory:    6.973 Gb\n",
       "H2O cluster total cores:    8\n",
       "H2O cluster allowed cores:  8\n",
       "H2O cluster status:         accepting new members, healthy\n",
       "H2O connection url:         http://127.0.0.1:54321\n",
       "H2O connection proxy:\n",
       "H2O internal security:      False\n",
       "Python version:             2.7.13 final\n",
       "--------------------------  ------------------------------"
      ]
     },
     "metadata": {},
     "output_type": "display_data"
    }
   ],
   "source": [
    "PName = \"predict\"   # The name of the predict field for H2O output\n",
    "h2o.init()"
   ]
  },
  {
   "cell_type": "code",
   "execution_count": 22,
   "metadata": {
    "collapsed": false
   },
   "outputs": [
    {
     "name": "stdout",
     "output_type": "stream",
     "text": [
      "Parse progress: |█████████████████████████████████████████████████████████| 100%\n"
     ]
    }
   ],
   "source": [
    "# Make the H2O version of the data frame\n",
    "dfh = h2o.H2OFrame(df)\n",
    "dfh[YName] = dfh[YName].asfactor()   # Force response"
   ]
  },
  {
   "cell_type": "code",
   "execution_count": 23,
   "metadata": {
    "collapsed": false
   },
   "outputs": [
    {
     "data": {
      "text/plain": [
       "True"
      ]
     },
     "execution_count": 23,
     "metadata": {},
     "output_type": "execute_result"
    }
   ],
   "source": [
    "dfh[YName].anyfactor()"
   ]
  },
  {
   "cell_type": "code",
   "execution_count": 24,
   "metadata": {
    "collapsed": false
   },
   "outputs": [],
   "source": [
    "# http://docs.h2o.ai/h2o/latest-stable/h2o-docs/data-science/gbm.html\n",
    "\n",
    "# For doing a grid search, see here:\n",
    "# https://github.com/h2oai/h2o-3/blob/master/h2o-docs/src/product/tutorials/gbm/gbmTuning.ipynb\n",
    "    \n",
    "    \n",
    "gbm = h2o.estimators.gbm.H2OGradientBoostingEstimator(\n",
    "   # nfolds=4,\n",
    "   #     ntrees=5,\n",
    "   #     max_depth=5,    # Of a tree\n",
    ")\n",
    "x = \"\"\"\n",
    "    # DEFAULTS:\n",
    "    nfolds = 0,    # No cross validation folds\n",
    "    ntrees=50,\n",
    "    learn_rate=0.1,\n",
    "    max_depth=5,    # Of a tree\n",
    "    min_row=10,     # Fewest allowed observations in a leaf (weighted)\n",
    "    nbins=20,   # For numeric cols, build histogram of at most this many bins\n",
    "    stopping_tolerance=0.01, #10-fold increase in threshold as defined in rf_v1\n",
    "    stopping_rounds=2,\n",
    "    score_each_iteration=True,\n",
    "\"\"\""
   ]
  },
  {
   "cell_type": "code",
   "execution_count": 25,
   "metadata": {
    "collapsed": false
   },
   "outputs": [
    {
     "name": "stdout",
     "output_type": "stream",
     "text": [
      "gbm Model Build progress: |███████████████████████████████████████████████| 100%\n"
     ]
    }
   ],
   "source": [
    "gbm.train(x=XNames, y=YName, training_frame=dfh)"
   ]
  },
  {
   "cell_type": "code",
   "execution_count": 26,
   "metadata": {
    "collapsed": false
   },
   "outputs": [
    {
     "name": "stdout",
     "output_type": "stream",
     "text": [
      "gbm prediction progress: |████████████████████████████████████████████████| 100%\n"
     ]
    }
   ],
   "source": [
    "pred_train = gbm.predict(dfh)"
   ]
  },
  {
   "cell_type": "code",
   "execution_count": 27,
   "metadata": {
    "collapsed": false
   },
   "outputs": [
    {
     "name": "stdout",
     "output_type": "stream",
     "text": [
      "Training error = 0.019\n",
      "Training accuracy = 0.981\n"
     ]
    }
   ],
   "source": [
    "print (\"Training error = {:.3f}\".format(\n",
    "    1 - (pred_train['predict'] == dfh[YName]).sum()/dfh.nrows))\n",
    "\n",
    "print (\"Training accuracy = {:.3f}\".format(\n",
    "    (pred_train['predict'] == dfh[YName]).sum()/dfh.nrows))\n"
   ]
  },
  {
   "cell_type": "code",
   "execution_count": 28,
   "metadata": {
    "collapsed": false
   },
   "outputs": [
    {
     "data": {
      "text/html": [
       "<table>\n",
       "<thead>\n",
       "<tr><th style=\"text-align: right;\">  predict</th><th style=\"text-align: right;\">       p0</th><th style=\"text-align: right;\">      p1</th></tr>\n",
       "</thead>\n",
       "<tbody>\n",
       "<tr><td style=\"text-align: right;\">        1</td><td style=\"text-align: right;\">0.0231102</td><td style=\"text-align: right;\">0.97689 </td></tr>\n",
       "<tr><td style=\"text-align: right;\">        1</td><td style=\"text-align: right;\">0.180919 </td><td style=\"text-align: right;\">0.819081</td></tr>\n",
       "<tr><td style=\"text-align: right;\">        1</td><td style=\"text-align: right;\">0.0118534</td><td style=\"text-align: right;\">0.988147</td></tr>\n",
       "<tr><td style=\"text-align: right;\">        1</td><td style=\"text-align: right;\">0.049089 </td><td style=\"text-align: right;\">0.950911</td></tr>\n",
       "<tr><td style=\"text-align: right;\">        1</td><td style=\"text-align: right;\">0.0231102</td><td style=\"text-align: right;\">0.97689 </td></tr>\n",
       "<tr><td style=\"text-align: right;\">        1</td><td style=\"text-align: right;\">0.0231102</td><td style=\"text-align: right;\">0.97689 </td></tr>\n",
       "<tr><td style=\"text-align: right;\">        1</td><td style=\"text-align: right;\">0.013452 </td><td style=\"text-align: right;\">0.986548</td></tr>\n",
       "<tr><td style=\"text-align: right;\">        1</td><td style=\"text-align: right;\">0.048097 </td><td style=\"text-align: right;\">0.951903</td></tr>\n",
       "<tr><td style=\"text-align: right;\">        1</td><td style=\"text-align: right;\">0.0336916</td><td style=\"text-align: right;\">0.966308</td></tr>\n",
       "<tr><td style=\"text-align: right;\">        1</td><td style=\"text-align: right;\">0.0231102</td><td style=\"text-align: right;\">0.97689 </td></tr>\n",
       "</tbody>\n",
       "</table>"
      ]
     },
     "metadata": {},
     "output_type": "display_data"
    },
    {
     "data": {
      "text/plain": []
     },
     "execution_count": 28,
     "metadata": {},
     "output_type": "execute_result"
    }
   ],
   "source": [
    "pred_train"
   ]
  },
  {
   "cell_type": "code",
   "execution_count": 29,
   "metadata": {
    "collapsed": false
   },
   "outputs": [
    {
     "data": {
      "text/plain": [
       "category"
      ]
     },
     "execution_count": 29,
     "metadata": {},
     "output_type": "execute_result"
    }
   ],
   "source": [
    "df[YName].dtype"
   ]
  },
  {
   "cell_type": "markdown",
   "metadata": {},
   "source": [
    "### F1 Score\n",
    "\n",
    "\n",
    "$$F1 = 2 * \\frac{precision * recall}{precision + recall}$$\n",
    "\n",
    "See:\n",
    "\n",
    "https://en.wikipedia.org/wiki/F1_score\n",
    "\n",
    "http://scikit-learn.org/stable/modules/generated/sklearn.metrics.f1_score.html\n"
   ]
  },
  {
   "cell_type": "code",
   "execution_count": 30,
   "metadata": {
    "collapsed": false
   },
   "outputs": [
    {
     "name": "stdout",
     "output_type": "stream",
     "text": [
      "F1 Score for y = '1' is 0.959\n",
      "F1 Score for y = '0' is 0.988\n"
     ]
    }
   ],
   "source": [
    "# Multinominal classifier\n",
    "f1 = f1_score(dfh[YName].as_data_frame()[YName].tolist(),\n",
    "     pred_train[PName].as_data_frame()[PName].tolist(),\n",
    "     average=None,         \n",
    "     labels=YValues\n",
    "     )    \n",
    "for i, yvalue in enumerate(YValues):\n",
    "    print(\"F1 Score for y = '{}' is {:.3f}\".format(yvalue, f1[i]))\n"
   ]
  },
  {
   "cell_type": "markdown",
   "metadata": {},
   "source": [
    "### ROC\n",
    "\n",
    "http://scikit-learn.org/stable/modules/generated/sklearn.metrics.roc_curve.html\n"
   ]
  },
  {
   "cell_type": "code",
   "execution_count": 31,
   "metadata": {
    "collapsed": false
   },
   "outputs": [
    {
     "data": {
      "image/png": "[encoded data removed]",
      "text/plain": [
       "<matplotlib.figure.Figure at 0x7fdf26ce2250>"
      ]
     },
     "metadata": {},
     "output_type": "display_data"
    },
    {
     "name": "stdout",
     "output_type": "stream",
     "text": [
      "-- AUC is 0.993\n"
     ]
    }
   ],
   "source": [
    "for i, yvalue in enumerate(YValues):\n",
    "    # Get the True and Predicted values\n",
    "    y_true = list(df[YName])\n",
    "    y_true = map(lambda x : 1 if x == yvalue else 0, y_true)\n",
    "\n",
    "    # These are the predicted probabilities\n",
    "    if type(yvalue) is str:\n",
    "        yvalue_column_name = yvalue\n",
    "        y_pred = pred_train[yvalue].as_data_frame()[yvalue].tolist()\n",
    "    else:\n",
    "        yvalue_column_name = \"p\" + str(yvalue)\n",
    "        y_pred = (pred_train.as_data_frame()[yvalue_column_name].tolist())\n",
    "\n",
    "    # Area Under the ROC Curve (AUC)\n",
    "    auc = roc_auc_score(y_true, y_pred)\n",
    "    FalsePositiveRate, TruePositiveRate, thresholds = roc_curve(\n",
    "        y_true,\n",
    "        y_pred)\n",
    "    pylab.plot(FalsePositiveRate,\n",
    "                           TruePositiveRate,\n",
    "                           label=yvalue)\n",
    "pylab.legend(loc='lower right', shadow=True)\n",
    "pylab.show()\n",
    "\n",
    "print(\"-- AUC is {:.3f}\".format(auc))\n"
   ]
  },
  {
   "cell_type": "code",
   "execution_count": 32,
   "metadata": {
    "collapsed": false,
    "scrolled": true
   },
   "outputs": [
    {
     "data": {
      "image/png": "[encoded data removed]",
      "text/plain": [
       "<matplotlib.figure.Figure at 0x7fdf26f70a90>"
      ]
     },
     "metadata": {},
     "output_type": "display_data"
    }
   ],
   "source": [
    "gbm.varimp_plot()"
   ]
  },
  {
   "cell_type": "code",
   "execution_count": 33,
   "metadata": {
    "collapsed": false
   },
   "outputs": [
    {
     "data": {
      "text/html": [
       "<div>\n",
       "<style>\n",
       "    .dataframe thead tr:only-child th {\n",
       "        text-align: right;\n",
       "    }\n",
       "\n",
       "    .dataframe thead th {\n",
       "        text-align: left;\n",
       "    }\n",
       "\n",
       "    .dataframe tbody tr th {\n",
       "        vertical-align: top;\n",
       "    }\n",
       "</style>\n",
       "<table border=\"1\" class=\"dataframe\">\n",
       "  <thead>\n",
       "    <tr style=\"text-align: right;\">\n",
       "      <th></th>\n",
       "      <th>variable</th>\n",
       "      <th>relative_importance</th>\n",
       "      <th>scaled_importance</th>\n",
       "      <th>percentage</th>\n",
       "    </tr>\n",
       "  </thead>\n",
       "  <tbody>\n",
       "    <tr>\n",
       "      <th>0</th>\n",
       "      <td>satisfaction_level</td>\n",
       "      <td>6767.692383</td>\n",
       "      <td>1.000000</td>\n",
       "      <td>0.526354</td>\n",
       "    </tr>\n",
       "    <tr>\n",
       "      <th>1</th>\n",
       "      <td>time_spend_company</td>\n",
       "      <td>2118.022949</td>\n",
       "      <td>0.312961</td>\n",
       "      <td>0.164728</td>\n",
       "    </tr>\n",
       "    <tr>\n",
       "      <th>2</th>\n",
       "      <td>last_evaluation</td>\n",
       "      <td>1721.129028</td>\n",
       "      <td>0.254315</td>\n",
       "      <td>0.133860</td>\n",
       "    </tr>\n",
       "    <tr>\n",
       "      <th>3</th>\n",
       "      <td>number_project</td>\n",
       "      <td>1409.998047</td>\n",
       "      <td>0.208343</td>\n",
       "      <td>0.109662</td>\n",
       "    </tr>\n",
       "    <tr>\n",
       "      <th>4</th>\n",
       "      <td>average_montly_hours</td>\n",
       "      <td>759.435059</td>\n",
       "      <td>0.112215</td>\n",
       "      <td>0.059065</td>\n",
       "    </tr>\n",
       "    <tr>\n",
       "      <th>5</th>\n",
       "      <td>sales</td>\n",
       "      <td>52.549866</td>\n",
       "      <td>0.007765</td>\n",
       "      <td>0.004087</td>\n",
       "    </tr>\n",
       "    <tr>\n",
       "      <th>6</th>\n",
       "      <td>salary</td>\n",
       "      <td>18.600296</td>\n",
       "      <td>0.002748</td>\n",
       "      <td>0.001447</td>\n",
       "    </tr>\n",
       "    <tr>\n",
       "      <th>7</th>\n",
       "      <td>Work_accident</td>\n",
       "      <td>10.255219</td>\n",
       "      <td>0.001515</td>\n",
       "      <td>0.000798</td>\n",
       "    </tr>\n",
       "    <tr>\n",
       "      <th>8</th>\n",
       "      <td>promotion_last_5years</td>\n",
       "      <td>0.000000</td>\n",
       "      <td>0.000000</td>\n",
       "      <td>0.000000</td>\n",
       "    </tr>\n",
       "  </tbody>\n",
       "</table>\n",
       "</div>"
      ],
      "text/plain": [
       "                variable  relative_importance  scaled_importance  percentage\n",
       "0     satisfaction_level          6767.692383           1.000000    0.526354\n",
       "1     time_spend_company          2118.022949           0.312961    0.164728\n",
       "2        last_evaluation          1721.129028           0.254315    0.133860\n",
       "3         number_project          1409.998047           0.208343    0.109662\n",
       "4   average_montly_hours           759.435059           0.112215    0.059065\n",
       "5                  sales            52.549866           0.007765    0.004087\n",
       "6                 salary            18.600296           0.002748    0.001447\n",
       "7          Work_accident            10.255219           0.001515    0.000798\n",
       "8  promotion_last_5years             0.000000           0.000000    0.000000"
      ]
     },
     "execution_count": 33,
     "metadata": {},
     "output_type": "execute_result"
    }
   ],
   "source": [
    "varimp = pd.DataFrame(gbm.varimp(),\n",
    "             columns=\n",
    "             [\"variable\",\n",
    "              \"relative_importance\",\n",
    "              \"scaled_importance\",\n",
    "              \"percentage\"]\n",
    "            )\n",
    "top5 = varimp['variable'][0:5].tolist() + [YName]\n",
    "varimp"
   ]
  },
  {
   "cell_type": "code",
   "execution_count": 34,
   "metadata": {
    "collapsed": false
   },
   "outputs": [],
   "source": [
    "# TBD - figure out a pairs plot for top 5 most important variables\n",
    "#  -- tricky - how to do it with both categorical and numeric values\n",
    "\n",
    "# from pandas.tools.plotting import scatter_matrix\n",
    "# scatter_matrix(df[top5],\n",
    "\n",
    "#### df[top5].plot(subplots=True, layout)"
   ]
  },
  {
   "cell_type": "code",
   "execution_count": 35,
   "metadata": {
    "collapsed": true
   },
   "outputs": [],
   "source": [
    "if False:\n",
    "    h2o.cluster().shutdown(prompt = False)"
   ]
  }
 ],
 "metadata": {
  "kernelspec": {
   "display_name": "Python 2",
   "language": "python",
   "name": "python2"
  },
  "language_info": {
   "codemirror_mode": {
    "name": "ipython",
    "version": 2
   },
   "file_extension": ".py",
   "mimetype": "text/x-python",
   "name": "python",
   "nbconvert_exporter": "python",
   "pygments_lexer": "ipython2",
   "version": "2.7.13"
  }
 },
 "nbformat": 4,
 "nbformat_minor": 2
}
